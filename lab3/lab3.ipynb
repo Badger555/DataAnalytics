{
 "cells": [
  {
   "cell_type": "code",
   "execution_count": 44,
   "metadata": {},
   "outputs": [],
   "source": [
    "from cmdstanpy import CmdStanModel\n",
    "import pandas as pd\n",
    "import arviz as az \n",
    "import numpy as np\n",
    "import matplotlib.pyplot as plt\n",
    "import scipy.stats as stats"
   ]
  },
  {
   "cell_type": "code",
   "execution_count": 45,
   "metadata": {},
   "outputs": [
    {
     "name": "stderr",
     "output_type": "stream",
     "text": [
      "INFO:cmdstanpy:found newer exe file, not recompiling\n",
      "INFO:cmdstanpy:CmdStan start processing\n",
      "chain 1 |\u001b[34m██████████\u001b[0m| 00:00 Sampling completed"
     ]
    },
    {
     "name": "stdout",
     "output_type": "stream",
     "text": [
      "                                                                                "
     ]
    },
    {
     "name": "stderr",
     "output_type": "stream",
     "text": [
      "\n",
      "INFO:cmdstanpy:CmdStan done processing.\n"
     ]
    },
    {
     "name": "stdout",
     "output_type": "stream",
     "text": [
      "\n",
      "0.20148000000000002\n"
     ]
    },
    {
     "data": {
      "image/png": "[encoded data removed]",
      "text/plain": [
       "<Figure size 432x288 with 1 Axes>"
      ]
     },
     "metadata": {
      "needs_background": "light"
     },
     "output_type": "display_data"
    }
   ],
   "source": [
    "model_prior = CmdStanModel(stan_file='lab3_prior.stan')\n",
    "\n",
    "samples = model_prior.sample(fixed_param=True, iter_sampling=1000)\n",
    "\n",
    "p = samples.stan_variable(\"p\")\n",
    "y = samples.stan_variable(\"y\")\n",
    "\n",
    "ratio = y/50\n",
    "plt.hist(ratio, bins=30, density=True)\n",
    "# mean is around very close to 0.2, becouse in beta distribution beta = 4*alpha\n",
    "print(ratio.mean())\n"
   ]
  },
  {
   "cell_type": "code",
   "execution_count": 60,
   "metadata": {},
   "outputs": [
    {
     "name": "stderr",
     "output_type": "stream",
     "text": [
      "INFO:cmdstanpy:found newer exe file, not recompiling\n",
      "INFO:cmdstanpy:CmdStan start processing\n",
      "chain 1 |\u001b[33m          \u001b[0m| 00:00 Status\n",
      "\u001b[A\n",
      "\n",
      "chain 1 |\u001b[34m██████████\u001b[0m| 00:00 Sampling completed\n",
      "chain 2 |\u001b[34m██████████\u001b[0m| 00:00 Sampling completed\n",
      "chain 3 |\u001b[34m██████████\u001b[0m| 00:00 Sampling completed\n",
      "chain 4 |\u001b[34m██████████\u001b[0m| 00:00 Sampling completed"
     ]
    },
    {
     "name": "stdout",
     "output_type": "stream",
     "text": [
      "                                                                                                                                                                                                                                                                                                                                "
     ]
    },
    {
     "name": "stderr",
     "output_type": "stream",
     "text": [
      "\n",
      "INFO:cmdstanpy:CmdStan done processing.\n",
      "arviz - WARNING - Shape validation failed: input_shape: (1, 4000), minimum_shape: (chains=2, draws=4)\n",
      "arviz - WARNING - Shape validation failed: input_shape: (1, 4000), minimum_shape: (chains=2, draws=4)\n"
     ]
    },
    {
     "name": "stdout",
     "output_type": "stream",
     "text": [
      "\n",
      "Expected value of predicted ratio: 0.202\n",
      "94% density interval of predicted ratio: [0.08 0.36]\n",
      "Expected value of parameter p: 0.201\n",
      "94% density interval of parameter p: [0.108 0.296]\n",
      "Probability that ratio is lower than the average probability from traditional vaccines: 0.51475\n"
     ]
    },
    {
     "data": {
      "image/png": "[encoded data removed]",
      "text/plain": [
       "<Figure size 432x288 with 1 Axes>"
      ]
     },
     "metadata": {
      "needs_background": "light"
     },
     "output_type": "display_data"
    }
   ],
   "source": [
    "data = {'N': 50, 'y':10}\n",
    "\n",
    "model = CmdStanModel(stan_file=\"lab3_post.stan\")\n",
    "samples = model.sample(data=data)\n",
    "\n",
    "y_pred = samples.stan_variable('y_pred')\n",
    "ratio_pred = y_pred/data['N']\n",
    "p = samples.stan_variable(\"p\")\n",
    "\n",
    "plt.hist(ratio_pred, bins=100, density=True, cumulative=False)\n",
    "\n",
    "ratio_summary = az.summary(ratio_pred)\n",
    "p_summary = az.summary(p)\n",
    "\n",
    "# Print expected value and 94% density interval of predicted ratio and parameter p\n",
    "print(\"Expected value of predicted ratio:\", ratio_summary[\"mean\"].values[0])\n",
    "print(\"94% density interval of predicted ratio:\", np.round(az.hdi(ratio_pred, hdi_prob=0.94), 3))\n",
    "print(\"Expected value of parameter p:\", p_summary[\"mean\"].values[0])\n",
    "print(\"94% density interval of parameter p:\", np.round(az.hdi(p, hdi_prob=0.94), 3))\n",
    "\n",
    "# Compute the probability that the ratio is lower than the average probability from traditional vaccines\n",
    "prob_lower_than_traditional = np.mean(p < 0.2)\n",
    "print(\"Probability that ratio is lower than the average probability from traditional vaccines:\", prob_lower_than_traditional)\n"
   ]
  }
 ],
 "metadata": {
  "kernelspec": {
   "display_name": "Python 3 (ipykernel)",
   "language": "python",
   "name": "python3"
  },
  "language_info": {
   "codemirror_mode": {
    "name": "ipython",
    "version": 3
   },
   "file_extension": ".py",
   "mimetype": "text/x-python",
   "name": "python",
   "nbconvert_exporter": "python",
   "pygments_lexer": "ipython3",
   "version": "3.9.11"
  },
  "orig_nbformat": 4
 },
 "nbformat": 4,
 "nbformat_minor": 2
}
